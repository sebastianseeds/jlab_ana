{
 "cells": [
  {
   "cell_type": "code",
   "execution_count": 1,
   "id": "basic-defendant",
   "metadata": {},
   "outputs": [
    {
     "name": "stdout",
     "output_type": "stream",
     "text": [
      "Hello world!\n"
     ]
    }
   ],
   "source": [
    "print(\"Hello world!\")"
   ]
  },
  {
   "cell_type": "code",
   "execution_count": 2,
   "id": "appointed-still",
   "metadata": {},
   "outputs": [],
   "source": [
    "import uproot"
   ]
  },
  {
   "cell_type": "code",
   "execution_count": 3,
   "id": "fundamental-soundtrack",
   "metadata": {},
   "outputs": [],
   "source": [
    "file = uproot.open(\"/volatile/halla/sbs/seeds/rootfiles/hcal_gmn_fullreplay_12382_stream0_seg2_2.root\")"
   ]
  },
  {
   "cell_type": "code",
   "execution_count": 4,
   "id": "bibliographic-sacrifice",
   "metadata": {},
   "outputs": [
    {
     "data": {
      "text/plain": [
       "{'Run_Data;1': 'THaRun',\n",
       " 'T;1': 'TTree',\n",
       " 'E;1': 'TTree',\n",
       " 'TSsbs;1': 'TTree',\n",
       " 'TSLeft;1': 'TTree'}"
      ]
     },
     "execution_count": 4,
     "metadata": {},
     "output_type": "execute_result"
    }
   ],
   "source": [
    "file.classnames()"
   ]
  },
  {
   "cell_type": "code",
   "execution_count": null,
   "id": "electrical-candy",
   "metadata": {},
   "outputs": [],
   "source": []
  }
 ],
 "metadata": {
  "kernelspec": {
   "display_name": "Python 3",
   "language": "python",
   "name": "python3"
  },
  "language_info": {
   "codemirror_mode": {
    "name": "ipython",
    "version": 3
   },
   "file_extension": ".py",
   "mimetype": "text/x-python",
   "name": "python",
   "nbconvert_exporter": "python",
   "pygments_lexer": "ipython3",
   "version": "3.8.6"
  }
 },
 "nbformat": 4,
 "nbformat_minor": 5
}
